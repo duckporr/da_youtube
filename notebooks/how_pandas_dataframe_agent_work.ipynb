{
 "cells": [
  {
   "cell_type": "code",
   "execution_count": 22,
   "metadata": {},
   "outputs": [
    {
     "data": {
      "text/plain": [
       "True"
      ]
     },
     "execution_count": 22,
     "metadata": {},
     "output_type": "execute_result"
    }
   ],
   "source": [
    "import pandas as pd\n",
    "import matplotlib.pyplot as plt \n",
    "from langchain_experimental.agents.agent_toolkits.pandas.base import create_pandas_dataframe_agent \n",
    "from langchain_openai import ChatOpenAI\n",
    "from dotenv import load_dotenv\n",
    "#load enviroment\n",
    "load_dotenv()"
   ]
  },
  {
   "cell_type": "code",
   "execution_count": 23,
   "metadata": {},
   "outputs": [
    {
     "data": {
      "text/plain": [
       "ChatOpenAI(client=<openai.resources.chat.completions.completions.Completions object at 0x000001BB4F5C9BA0>, async_client=<openai.resources.chat.completions.completions.AsyncCompletions object at 0x000001BB4F64D810>, root_client=<openai.OpenAI object at 0x000001BB4F3AEC10>, root_async_client=<openai.AsyncOpenAI object at 0x000001BB4F3AEFD0>, temperature=0.0, model_kwargs={}, openai_api_key=SecretStr('**********'), max_tokens=1000)"
      ]
     },
     "execution_count": 23,
     "metadata": {},
     "output_type": "execute_result"
    }
   ],
   "source": [
    "import sys\n",
    "sys.path.append(\"D:/DADuckShop/dagpt\")\n",
    "from src.models.llms import load_llm\n",
    "\n",
    "MODEL_NAME = \"gpt-3.5-turbo\"\n",
    "llm = load_llm(model_name= MODEL_NAME)\n",
    "llm"
   ]
  },
  {
   "cell_type": "code",
   "execution_count": 24,
   "metadata": {},
   "outputs": [
    {
     "data": {
      "text/plain": [
       "AIMessage(content='Hello! I am an AI digital assistant here to help you with any questions or tasks you may have. How can I assist you today?', additional_kwargs={'refusal': None}, response_metadata={'token_usage': {'completion_tokens': 29, 'prompt_tokens': 13, 'total_tokens': 42, 'completion_tokens_details': {'accepted_prediction_tokens': 0, 'audio_tokens': 0, 'reasoning_tokens': 0, 'rejected_prediction_tokens': 0}, 'prompt_tokens_details': {'audio_tokens': 0, 'cached_tokens': 0}}, 'model_name': 'gpt-3.5-turbo-0125', 'system_fingerprint': None, 'id': 'chatcmpl-BHtMxhFXbCfrveQHAJC21zsRslaMm', 'finish_reason': 'stop', 'logprobs': None}, id='run-9fac8ab6-86a2-430b-8d8e-e51c69e14b02-0', usage_metadata={'input_tokens': 13, 'output_tokens': 29, 'total_tokens': 42, 'input_token_details': {'audio': 0, 'cache_read': 0}, 'output_token_details': {'audio': 0, 'reasoning': 0}})"
      ]
     },
     "execution_count": 24,
     "metadata": {},
     "output_type": "execute_result"
    }
   ],
   "source": [
    "llm.invoke(\"Hello. Who are you ?\")"
   ]
  },
  {
   "cell_type": "code",
   "execution_count": 25,
   "metadata": {},
   "outputs": [
    {
     "data": {
      "text/plain": [
       "AgentExecutor(verbose=True, agent=RunnableMultiActionAgent(runnable=RunnableAssign(mapper={\n",
       "  agent_scratchpad: RunnableLambda(lambda x: message_formatter(x['intermediate_steps']))\n",
       "})\n",
       "| ChatPromptTemplate(input_variables=['agent_scratchpad', 'input'], input_types={'agent_scratchpad': list[typing.Annotated[typing.Union[typing.Annotated[langchain_core.messages.ai.AIMessage, Tag(tag='ai')], typing.Annotated[langchain_core.messages.human.HumanMessage, Tag(tag='human')], typing.Annotated[langchain_core.messages.chat.ChatMessage, Tag(tag='chat')], typing.Annotated[langchain_core.messages.system.SystemMessage, Tag(tag='system')], typing.Annotated[langchain_core.messages.function.FunctionMessage, Tag(tag='function')], typing.Annotated[langchain_core.messages.tool.ToolMessage, Tag(tag='tool')], typing.Annotated[langchain_core.messages.ai.AIMessageChunk, Tag(tag='AIMessageChunk')], typing.Annotated[langchain_core.messages.human.HumanMessageChunk, Tag(tag='HumanMessageChunk')], typing.Annotated[langchain_core.messages.chat.ChatMessageChunk, Tag(tag='ChatMessageChunk')], typing.Annotated[langchain_core.messages.system.SystemMessageChunk, Tag(tag='SystemMessageChunk')], typing.Annotated[langchain_core.messages.function.FunctionMessageChunk, Tag(tag='FunctionMessageChunk')], typing.Annotated[langchain_core.messages.tool.ToolMessageChunk, Tag(tag='ToolMessageChunk')]], FieldInfo(annotation=NoneType, required=True, discriminator=Discriminator(discriminator=<function _get_type at 0x000001BB13E99C60>, custom_error_type=None, custom_error_message=None, custom_error_context=None))]]}, partial_variables={}, messages=[SystemMessage(content='\\nYou are working with a pandas dataframe in Python. The name of the dataframe is `df`.\\nThis is the result of `print(df.head())`:\\n|    | Date       | Product ID   | Product Name   |   Quantity |   Unit Price |   Total Revenue |\\n|---:|:-----------|:-------------|:---------------|-----------:|-------------:|----------------:|\\n|  0 | 2024-01-15 | SP002        | Quần jeans     |          3 |       400000 |         1200000 |\\n|  1 | 2024-02-10 | SP005        | Giày sneaker   |          5 |       800000 |         4000000 |\\n|  2 | 2024-01-05 | SP004        | Áo sơ mi       |          1 |       300000 |          300000 |\\n|  3 | 2024-01-07 | SP004        | Áo sơ mi       |          5 |       300000 |         1500000 |\\n|  4 | 2024-02-08 | SP005        | Giày sneaker   |          1 |       800000 |          800000 |', additional_kwargs={}, response_metadata={}), HumanMessagePromptTemplate(prompt=PromptTemplate(input_variables=['input'], input_types={}, partial_variables={}, template='{input}'), additional_kwargs={}), MessagesPlaceholder(variable_name='agent_scratchpad')])\n",
       "| RunnableBinding(bound=ChatOpenAI(client=<openai.resources.chat.completions.completions.Completions object at 0x000001BB4F5C9BA0>, async_client=<openai.resources.chat.completions.completions.AsyncCompletions object at 0x000001BB4F64D810>, root_client=<openai.OpenAI object at 0x000001BB4F3AEC10>, root_async_client=<openai.AsyncOpenAI object at 0x000001BB4F3AEFD0>, temperature=0.0, model_kwargs={}, openai_api_key=SecretStr('**********'), max_tokens=1000), kwargs={'tools': [{'type': 'function', 'function': {'name': 'python_repl_ast', 'description': 'A Python shell. Use this to execute python commands. Input should be a valid python command. When using this tool, sometimes output is abbreviated - make sure it does not look abbreviated before using it in your answer.', 'parameters': {'properties': {'query': {'description': 'code snippet to run', 'type': 'string'}}, 'required': ['query'], 'type': 'object'}}}]}, config={}, config_factories=[])\n",
       "| ToolsAgentOutputParser(), input_keys_arg=['input'], return_keys_arg=['output'], stream_runnable=True), tools=[PythonAstREPLTool(globals={}, locals={'df':           Date Product ID  Product Name  Quantity  Unit Price  Total Revenue\n",
       "0   2024-01-15      SP002    Quần jeans         3      400000        1200000\n",
       "1   2024-02-10      SP005  Giày sneaker         5      800000        4000000\n",
       "2   2024-01-05      SP004      Áo sơ mi         1      300000         300000\n",
       "3   2024-01-07      SP004      Áo sơ mi         5      300000        1500000\n",
       "4   2024-02-08      SP005  Giày sneaker         1      800000         800000\n",
       "..         ...        ...           ...       ...         ...            ...\n",
       "95  2024-01-01      SP001       Áo thun         3      200000         600000\n",
       "96  2024-01-13      SP002    Quần jeans         2      400000         800000\n",
       "97  2024-01-29      SP001       Áo thun         1      200000         200000\n",
       "98  2024-03-10      SP001       Áo thun         4      200000         800000\n",
       "99  2024-02-22      SP004      Áo sơ mi         4      300000        1200000\n",
       "\n",
       "[100 rows x 6 columns]})], return_intermediate_steps=True)"
      ]
     },
     "execution_count": 25,
     "metadata": {},
     "output_type": "execute_result"
    }
   ],
   "source": [
    " \n",
    "df = pd.read_csv(\"D:/DADuckShop/dagpt/data/raw/fashion_shop_revenue.csv\")\n",
    "\n",
    "da_agent = create_pandas_dataframe_agent(\n",
    "        llm = llm,\n",
    "        df = df,\n",
    "        agent_type = \"tool-calling\",\n",
    "        allow_dangerous_code = True,\n",
    "        verbose = True,\n",
    "        return_intermediate_steps =True,\n",
    "    )\n",
    "da_agent"
   ]
  },
  {
   "cell_type": "code",
   "execution_count": 26,
   "metadata": {},
   "outputs": [
    {
     "name": "stdout",
     "output_type": "stream",
     "text": [
      "\n",
      "\n",
      "\u001b[1m> Entering new AgentExecutor chain...\u001b[0m\n",
      "\u001b[32;1m\u001b[1;3m\n",
      "Invoking: `python_repl_ast` with `{'query': 'df.describe()'}`\n",
      "\n",
      "\n",
      "\u001b[0m\u001b[36;1m\u001b[1;3m         Quantity     Unit Price  Total Revenue\n",
      "count  100.000000     100.000000   1.000000e+02\n",
      "mean     2.950000  418000.000000   1.249000e+06\n",
      "std      1.305582  194562.446157   8.787612e+05\n",
      "min      1.000000  200000.000000   2.000000e+05\n",
      "25%      2.000000  300000.000000   7.500000e+05\n",
      "50%      3.000000  400000.000000   1.000000e+06\n",
      "75%      4.000000  500000.000000   1.600000e+06\n",
      "max      5.000000  800000.000000   4.000000e+06\u001b[0m\u001b[32;1m\u001b[1;3mThe data contains information about sales transactions with the following statistics:\n",
      "\n",
      "- Quantity:\n",
      "  - Count: 100\n",
      "  - Mean: 2.95\n",
      "  - Standard Deviation: 1.31\n",
      "  - Minimum: 1\n",
      "  - 25th Percentile: 2\n",
      "  - Median (50th Percentile): 3\n",
      "  - 75th Percentile: 4\n",
      "  - Maximum: 5\n",
      "\n",
      "- Unit Price:\n",
      "  - Count: 100\n",
      "  - Mean: 418,000\n",
      "  - Standard Deviation: 194,562.45\n",
      "  - Minimum: 200,000\n",
      "  - 25th Percentile: 300,000\n",
      "  - Median (50th Percentile): 400,000\n",
      "  - 75th Percentile: 500,000\n",
      "  - Maximum: 800,000\n",
      "\n",
      "- Total Revenue:\n",
      "  - Count: 100\n",
      "  - Mean: 1,249,000\n",
      "  - Standard Deviation: 878,761.20\n",
      "  - Minimum: 200,000\n",
      "  - 25th Percentile: 750,000\n",
      "  - Median (50th Percentile): 1,000,000\n",
      "  - 75th Percentile: 1,600,000\n",
      "  - Maximum: 4,000,000\u001b[0m\n",
      "\n",
      "\u001b[1m> Finished chain.\u001b[0m\n"
     ]
    }
   ],
   "source": [
    "query = \"Describe this data \"\n",
    "response = da_agent(query)"
   ]
  },
  {
   "cell_type": "code",
   "execution_count": 30,
   "metadata": {},
   "outputs": [
    {
     "name": "stdout",
     "output_type": "stream",
     "text": [
      "\n",
      "\n",
      "\u001b[1m> Entering new AgentExecutor chain...\u001b[0m\n"
     ]
    },
    {
     "data": {
      "image/png": "[encoded data removed]",
      "text/plain": [
       "<Figure size 1000x600 with 1 Axes>"
      ]
     },
     "metadata": {},
     "output_type": "display_data"
    },
    {
     "name": "stdout",
     "output_type": "stream",
     "text": [
      "\u001b[32;1m\u001b[1;3m\n",
      "Invoking: `python_repl_ast` with `{'query': \"import matplotlib.pyplot as plt\\n\\n# Grouping the data by Product ID and summing the Total Revenue\\nrevenue_by_product = df.groupby('Product ID')['Total Revenue'].sum().reset_index()\\n\\n# Creating a scatter plot\\nplt.figure(figsize=(10, 6))\\nplt.scatter(revenue_by_product['Product ID'], revenue_by_product['Total Revenue'])\\nplt.title('Total Revenue by Product ID')\\nplt.xlabel('Product ID')\\nplt.ylabel('Total Revenue')\\nplt.grid(True)\\nplt.show()\"}`\n",
      "\n",
      "\n",
      "\u001b[0m\u001b[36;1m\u001b[1;3m\u001b[0m\u001b[32;1m\u001b[1;3mHere is the scatter plot showing the Total Revenue by Product ID. Each point represents the sum of Total Revenue for a specific Product ID.\u001b[0m\n",
      "\n",
      "\u001b[1m> Finished chain.\u001b[0m\n"
     ]
    }
   ],
   "source": [
    "query = \"plot scatter plot of Product ID and sum Total Revenue \"\n",
    "response = da_agent(query)"
   ]
  }
 ],
 "metadata": {
  "kernelspec": {
   "display_name": "Python 3",
   "language": "python",
   "name": "python3"
  },
  "language_info": {
   "codemirror_mode": {
    "name": "ipython",
    "version": 3
   },
   "file_extension": ".py",
   "mimetype": "text/x-python",
   "name": "python",
   "nbconvert_exporter": "python",
   "pygments_lexer": "ipython3",
   "version": "3.13.2"
  }
 },
 "nbformat": 4,
 "nbformat_minor": 2
}
